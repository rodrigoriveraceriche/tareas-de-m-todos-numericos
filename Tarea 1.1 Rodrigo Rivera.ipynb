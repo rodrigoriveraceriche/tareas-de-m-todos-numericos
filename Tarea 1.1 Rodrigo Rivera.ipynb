{
 "cells": [
  {
   "cell_type": "markdown",
   "id": "e13ca6b2-9945-4620-b1db-05f415b43590",
   "metadata": {
    "tags": []
   },
   "source": [
    "# Tarea 1.1 de Métodos Numéricos y Probabilidades #\n",
    "\n",
    "\n"
   ]
  },
  {
   "cell_type": "code",
   "execution_count": 1,
   "id": "1ad67fb3-3426-41b1-ae3a-0de5f6a54950",
   "metadata": {},
   "outputs": [
    {
     "ename": "ZeroDivisionError",
     "evalue": "division by zero",
     "output_type": "error",
     "traceback": [
      "\u001b[1;31m---------------------------------------------------------------------------\u001b[0m",
      "\u001b[1;31mZeroDivisionError\u001b[0m                         Traceback (most recent call last)",
      "Input \u001b[1;32mIn [1]\u001b[0m, in \u001b[0;36m<cell line: 5>\u001b[1;34m()\u001b[0m\n\u001b[0;32m      2\u001b[0m \u001b[38;5;28;01mdef\u001b[39;00m \u001b[38;5;21mfun\u001b[39m(n):\n\u001b[0;32m      3\u001b[0m     \u001b[38;5;28;01mreturn\u001b[39;00m \u001b[38;5;241m1\u001b[39m\u001b[38;5;241m/\u001b[39mn\n\u001b[1;32m----> 5\u001b[0m \u001b[38;5;28mprint\u001b[39m(\u001b[43mfun\u001b[49m\u001b[43m(\u001b[49m\u001b[38;5;241;43m0\u001b[39;49m\u001b[43m)\u001b[49m)\n",
      "Input \u001b[1;32mIn [1]\u001b[0m, in \u001b[0;36mfun\u001b[1;34m(n)\u001b[0m\n\u001b[0;32m      2\u001b[0m \u001b[38;5;28;01mdef\u001b[39;00m \u001b[38;5;21mfun\u001b[39m(n):\n\u001b[1;32m----> 3\u001b[0m     \u001b[38;5;28;01mreturn\u001b[39;00m \u001b[38;5;241;43m1\u001b[39;49m\u001b[38;5;241;43m/\u001b[39;49m\u001b[43mn\u001b[49m\n",
      "\u001b[1;31mZeroDivisionError\u001b[0m: division by zero"
     ]
    }
   ],
   "source": [
    "#Modifique el siguiente código para que no saque un error\n",
    "def fun(n):\n",
    "    return 1/n\n",
    "\n",
    "print(fun(0))"
   ]
  },
  {
   "cell_type": "markdown",
   "id": "5b36e74e-741d-4e1d-aa83-b5aaad2cface",
   "metadata": {},
   "source": [
    "# Solución\n",
    "    \n",
    "Esto se puede de la siguiente manera: "
   ]
  },
  {
   "cell_type": "code",
   "execution_count": 4,
   "id": "1fb9a1e2-e2f4-4ba8-8914-3b43272264d7",
   "metadata": {},
   "outputs": [
    {
     "name": "stdout",
     "output_type": "stream",
     "text": [
      "No se puede dividir por 0. Intente con otro número por favor\n"
     ]
    }
   ],
   "source": [
    "def fun(n):\n",
    "    if n == 0: #Agregamos la condiciòn de que si el número en cuestión es igual a 0, el sistema mandará el mensaje que se muestra en la otra línea de codigo\n",
    "        print(\"No se puede dividir por 0. Intente con otro número por favor\") \n",
    "    else: # Por otro lado, si es otro número el que se introduce, el sistema lanzará el resultado de dicha función.\n",
    "        return 1/n\n",
    "    \n",
    "fun(0)    \n",
    "        \n",
    "    "
   ]
  },
  {
   "cell_type": "code",
   "execution_count": 9,
   "id": "8a8a0ed0-a7ad-4d15-a0f5-b5aa0c9ac570",
   "metadata": {},
   "outputs": [
    {
     "data": {
      "text/plain": [
       "0.029411764705882353"
      ]
     },
     "execution_count": 9,
     "metadata": {},
     "output_type": "execute_result"
    }
   ],
   "source": [
    "fun(34)"
   ]
  }
 ],
 "metadata": {
  "kernelspec": {
   "display_name": "Python 3 (ipykernel)",
   "language": "python",
   "name": "python3"
  },
  "language_info": {
   "codemirror_mode": {
    "name": "ipython",
    "version": 3
   },
   "file_extension": ".py",
   "mimetype": "text/x-python",
   "name": "python",
   "nbconvert_exporter": "python",
   "pygments_lexer": "ipython3",
   "version": "3.9.12"
  }
 },
 "nbformat": 4,
 "nbformat_minor": 5
}
