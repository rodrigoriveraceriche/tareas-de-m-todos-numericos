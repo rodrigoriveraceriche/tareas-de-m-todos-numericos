{
 "cells": [
  {
   "cell_type": "markdown",
   "id": "d34999cd-923a-4e5b-a468-977a75335e7e",
   "metadata": {},
   "source": [
    "## Tarea 5.7\n",
    "\n",
    "En ausencia de una señal, un cierto detector de partículas en promedio detecta  2  impactos por segundo debidos a una contaminación de fondo. Durante una medición se obtienen las siguientes observaciones (esta es una lista del número de señales por cada segundo de duración del experimento):"
   ]
  },
  {
   "cell_type": "code",
   "execution_count": 1,
   "id": "675dfacf-ca54-4002-b698-89262a57b05d",
   "metadata": {},
   "outputs": [],
   "source": [
    "mediciones = [2, 3, 3, 3, 0, 1, 2, 2, 0, 4, 10, 0, 2, 4, 6, 3, 2, 1, 1, 1]"
   ]
  },
  {
   "cell_type": "markdown",
   "id": "d8b91742-13c8-41c0-bb4d-80e7d5b2e64b",
   "metadata": {},
   "source": [
    "Compare estos resultados con la distribución de Poisson. Discuta en cuáles intervalos cree usted que se detectó una señal que no es contaminación."
   ]
  },
  {
   "cell_type": "markdown",
   "id": "6febd0e2-76d2-4e0b-8bd2-910f0ff2e4f4",
   "metadata": {},
   "source": [
    "## Solución.\n",
    "\n",
    "Usando la distribución de Poisson, que se define como:\n",
    "\n",
    "\n",
    "$$\n",
    "P(n; \\lambda) = \\frac{\\lambda^n}{n!} e^{-\\lambda}\n",
    "$$\n",
    "\n",
    "Podemos definir nuestra función de la siguiente manera:\n"
   ]
  },
  {
   "cell_type": "code",
   "execution_count": 5,
   "id": "94f1c93c-87a2-4350-a2bd-39ef956e0373",
   "metadata": {},
   "outputs": [],
   "source": [
    "import numpy as np\n",
    "import matplotlib.pyplot as plt\n",
    "import math\n",
    "\n",
    "\n",
    "\n",
    "def resultados_poisson(eventos, lamda): # Definimos nuestra función.\n",
    "    '''\n",
    "    Esta función calcula la distribución de Poisson para cualquier valor \n",
    "    de \"eventos\".\n",
    "    \n",
    "    Veremos más adelante que nos servirá para poder calcular la distribución\n",
    "    de Poisson de los valores de la lista \"mediciones\".\n",
    "    \n",
    "    Los inputs son:\n",
    "    \n",
    "    eventos = el número de mediciones.\n",
    "    lamda = el promedio de las mediciones.\n",
    "    \n",
    "    '''\n",
    "    poisson = [] # Se define una lista para los valores\n",
    "                 # de la distribución de Poisson.\n",
    "  \n",
    "    if type(eventos) == int: # Ponemos la condición de que si el \"type\"eventos es un entero,\n",
    "                       # regresamos la distribución de Poisson.\n",
    "        \n",
    "        return (lamda**eventos)*np.exp(-lamda)/(math.factorial(eventos))\n",
    "    else: \n",
    "        # Por otro lado, iniciamos un ciclo en donde agregamos\n",
    "        # los términos de la distribución de Poisson a la lista \"poisson\".\n",
    "        for i in eventos:\n",
    "            poisson.append((lamda**i)*np.exp(-lamda)/(math.factorial(i)))\n",
    "        return poisson   \n",
    "        "
   ]
  },
  {
   "cell_type": "markdown",
   "id": "db9d3a4a-93d6-484a-9571-c6b4ccae6b7f",
   "metadata": {},
   "source": [
    "Ejecutando el código"
   ]
  },
  {
   "cell_type": "code",
   "execution_count": 3,
   "id": "06b1fa08-d218-4bef-93ab-180b23ca8208",
   "metadata": {},
   "outputs": [
    {
     "data": {
      "text/plain": [
       "[0.2706705664732254,\n",
       " 0.1804470443154836,\n",
       " 0.1804470443154836,\n",
       " 0.1804470443154836,\n",
       " 0.1353352832366127,\n",
       " 0.2706705664732254,\n",
       " 0.2706705664732254,\n",
       " 0.2706705664732254,\n",
       " 0.1353352832366127,\n",
       " 0.0902235221577418,\n",
       " 3.8189850648779595e-05,\n",
       " 0.1353352832366127,\n",
       " 0.2706705664732254,\n",
       " 0.0902235221577418,\n",
       " 0.012029802954365574,\n",
       " 0.1804470443154836,\n",
       " 0.2706705664732254,\n",
       " 0.2706705664732254,\n",
       " 0.2706705664732254,\n",
       " 0.2706705664732254]"
      ]
     },
     "execution_count": 3,
     "metadata": {},
     "output_type": "execute_result"
    }
   ],
   "source": [
    "resultados_poisson(mediciones, 2)"
   ]
  },
  {
   "cell_type": "markdown",
   "id": "01dbbae5-e458-4bdf-8262-bb8bec4cf1ce",
   "metadata": {},
   "source": [
    "Vemos que el número 10 es un numero que dista mucho de los valores de la lista, por lo cual creeemos que es la señal que no detecto \n",
    "contaminación. Pero aun no hemos terminado de hacer el análisis."
   ]
  },
  {
   "cell_type": "markdown",
   "id": "49c3416d-5eac-489a-94ae-46351e57f705",
   "metadata": {},
   "source": [
    "Podemos hacer un análisis más detallado de la situación que se nos presenta."
   ]
  },
  {
   "cell_type": "code",
   "execution_count": 28,
   "id": "6363b457-15b3-431f-a4cb-cd079f8ee9f3",
   "metadata": {},
   "outputs": [
    {
     "data": {
      "text/plain": [
       "Text(0, 0.5, 'Probabilidad')"
      ]
     },
     "execution_count": 28,
     "metadata": {},
     "output_type": "execute_result"
    },
    {
     "data": {
      "image/png": "[encoded data removed]",
      "text/plain": [
       "<Figure size 880x1320 with 2 Axes>"
      ]
     },
     "metadata": {
      "needs_background": "light"
     },
     "output_type": "display_data"
    }
   ],
   "source": [
    "def probs(lamda, l):\n",
    "    return [resultados_poisson(eventos, lamda) for eventos in range(l+1)] \n",
    "\n",
    "# Definimos una función de comprensión de listas que me define una lista con los\n",
    "# elementos que me va a generar la función resultados_poisson.\n",
    "\n",
    "fig = plt.figure(figsize=(8,12), dpi= 110)\n",
    "\n",
    "\n",
    "ax1= fig.add_subplot(4,2,1) #gráfico 1\n",
    "ax1.hist(mediciones, bins= 20, color = \"magenta\")\n",
    "ax1.set_title('Mediciones')\n",
    "ax1.set_xlabel('Número de impactos')\n",
    "ax1.set_ylabel('Frecuencia de las mediciones')\n",
    "\n",
    "ax2 = fig.add_subplot(4,2,5) #gráfico 2\n",
    "ax2.bar(range(10+1), probs(2, 10),color= 'purple')\n",
    "ax2.set_title('D. de Poisson con $\\lambda = 2$ y n entre 0 - 10')\n",
    "ax2.set_xlabel('n')\n",
    "ax2.set_ylabel('Probabilidad')\n",
    "\n",
    "# Acá lo que se hace es definir una serie de gráficos para la lista de mediciones y la frecuencia\n",
    "# de cada medición. El otro gráfico es de la distribución de poisson de la lista de mediciones con sus\n",
    "# respectiva probabilidad, que llega hasta el 25%.\n",
    "\n"
   ]
  },
  {
   "cell_type": "markdown",
   "id": "d5eed916-849f-48e9-a47e-2a553009e2f3",
   "metadata": {},
   "source": [
    "Acá vemos de manera más clara que el porcentaje de que ocurra 10 es bastante mas difusa que las anteriores. Por lo que ahora podemos decir que en la señal 10\n",
    "no se detecto contaminación."
   ]
  },
  {
   "cell_type": "code",
   "execution_count": null,
   "id": "9058f3ab-820a-409e-9b89-8afdbf449a45",
   "metadata": {},
   "outputs": [],
   "source": []
  }
 ],
 "metadata": {
  "kernelspec": {
   "display_name": "Python 3 (ipykernel)",
   "language": "python",
   "name": "python3"
  },
  "language_info": {
   "codemirror_mode": {
    "name": "ipython",
    "version": 3
   },
   "file_extension": ".py",
   "mimetype": "text/x-python",
   "name": "python",
   "nbconvert_exporter": "python",
   "pygments_lexer": "ipython3",
   "version": "3.9.12"
  }
 },
 "nbformat": 4,
 "nbformat_minor": 5
}
