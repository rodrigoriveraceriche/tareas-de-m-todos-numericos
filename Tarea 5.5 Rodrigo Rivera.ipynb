{
 "cells": [
  {
   "cell_type": "markdown",
   "id": "d34999cd-923a-4e5b-a468-977a75335e7e",
   "metadata": {},
   "source": [
    "## Tarea 5.7\n",
    "\n",
    "En ausencia de una señal, un cierto detector de partículas en promedio detecta  2  impactos por segundo debidos a una contaminación de fondo. Durante una medición se obtienen las siguientes observaciones (esta es una lista del número de señales por cada segundo de duración del experimento):"
   ]
  },
  {
   "cell_type": "code",
   "execution_count": 1,
   "id": "675dfacf-ca54-4002-b698-89262a57b05d",
   "metadata": {},
   "outputs": [],
   "source": [
    "mediciones = [2, 3, 3, 3, 0, 1, 2, 2, 0, 4, 10, 0, 2, 4, 6, 3, 2, 1, 1, 1]"
   ]
  },
  {
   "cell_type": "markdown",
   "id": "d8b91742-13c8-41c0-bb4d-80e7d5b2e64b",
   "metadata": {},
   "source": [
    "Compare estos resultados con la distribución de Poisson. Discuta en cuáles intervalos cree usted que se detectó una señal que no es contaminación."
   ]
  },
  {
   "cell_type": "markdown",
   "id": "6febd0e2-76d2-4e0b-8bd2-910f0ff2e4f4",
   "metadata": {},
   "source": [
    "## Solución.\n",
    "\n",
    "Usando la distribución de Poisson, que se define como:\n",
    "\n",
    "\n",
    "$$\n",
    "P(n; \\lambda) = \\frac{\\lambda^n}{n!} e^{-\\lambda}\n",
    "$$\n",
    "\n",
    "Podemos definir nuestra función de la siguiente manera:\n"
   ]
  },
  {
   "cell_type": "code",
   "execution_count": 2,
   "id": "94f1c93c-87a2-4350-a2bd-39ef956e0373",
   "metadata": {},
   "outputs": [],
   "source": [
    "import numpy as np\n",
    "import matplotlib.pyplot as plt\n",
    "import math\n",
    "\n",
    "\n",
    "\n",
    "def resultados_poisson(eventos, lamda): # Definimos nuestra función.\n",
    "    '''\n",
    "    Esta función calcula la distribución de Poisson para cualquier valor \n",
    "    de \"eventos\".\n",
    "    \n",
    "    Veremos más adelante que nos servirá para poder calcular la distribución\n",
    "    de Poisson de los valores de la lista \"mediciones\".\n",
    "    \n",
    "    Los inputs son:\n",
    "    \n",
    "    eventos = el número de mediciones.\n",
    "    lamda = el promedio de las mediciones.\n",
    "    \n",
    "    '''\n",
    "    poisson = [] # Se define una lista para los valores\n",
    "                 # de la distribución de Poisson.\n",
    "  \n",
    "    if eventos == int: # Ponemos la condición de que si eventos es un entero,\n",
    "                       # regresamos la distribución de Poisson.\n",
    "        \n",
    "        return (lamda**eventos)*np.exp(-lamda)/(math.factorial(eventos))\n",
    "    else: \n",
    "        # Por otro lado, iniciamos un ciclo en donde agregamos\n",
    "        # los términos de la distribución de Poisson a la lista \"poisson\".\n",
    "        for i in eventos:\n",
    "            poisson.append((lamda**i)*np.exp(-lamda)/(math.factorial(i)))\n",
    "        return poisson   \n",
    "        "
   ]
  },
  {
   "cell_type": "markdown",
   "id": "db9d3a4a-93d6-484a-9571-c6b4ccae6b7f",
   "metadata": {},
   "source": [
    "Ejecutando el código"
   ]
  },
  {
   "cell_type": "code",
   "execution_count": 14,
   "id": "06b1fa08-d218-4bef-93ab-180b23ca8208",
   "metadata": {},
   "outputs": [
    {
     "data": {
      "text/plain": [
       "[0.2706705664732254,\n",
       " 0.1804470443154836,\n",
       " 0.1804470443154836,\n",
       " 0.1804470443154836,\n",
       " 0.1353352832366127,\n",
       " 0.2706705664732254,\n",
       " 0.2706705664732254,\n",
       " 0.2706705664732254,\n",
       " 0.1353352832366127,\n",
       " 0.0902235221577418,\n",
       " 3.8189850648779595e-05,\n",
       " 0.1353352832366127,\n",
       " 0.2706705664732254,\n",
       " 0.0902235221577418,\n",
       " 0.012029802954365574,\n",
       " 0.1804470443154836,\n",
       " 0.2706705664732254,\n",
       " 0.2706705664732254,\n",
       " 0.2706705664732254,\n",
       " 0.2706705664732254]"
      ]
     },
     "execution_count": 14,
     "metadata": {},
     "output_type": "execute_result"
    }
   ],
   "source": [
    "resultados_poisson(mediciones, 2)"
   ]
  },
  {
   "cell_type": "code",
   "execution_count": 4,
   "id": "0a2c65c7-617b-4bde-ab96-40803cb41839",
   "metadata": {},
   "outputs": [
    {
     "data": {
      "text/plain": [
       "Text(0.5, 0.98, 'Comparación entre gráficos')"
      ]
     },
     "execution_count": 4,
     "metadata": {},
     "output_type": "execute_result"
    },
    {
     "data": {
      "image/png": "[encoded data removed]",
      "text/plain": [
       "<Figure size 720x288 with 2 Axes>"
      ]
     },
     "metadata": {
      "needs_background": "light"
     },
     "output_type": "display_data"
    }
   ],
   "source": [
    "fig,ax = plt.subplots(1,2, figsize=(10,4))\n",
    "\n",
    "ax[0].hist(mediciones, bins=10, color=\"Red\")\n",
    "ax[0].set_title(\"Mediciones\")\n",
    "ax[0].set_xlabel(\"Número de impactos\")\n",
    "ax[1].hist(resultados_poisson(mediciones, 2), bins = 7, color=\"Purple\")\n",
    "ax[1].set_title(\"Distribución de Poisson\")\n",
    "ax[1].set_xlabel(\"Porcentajes de las mediciones\")\n",
    "fig.suptitle(\"Comparación entre gráficos\")\n",
    "\n",
    "# Acá hacemos unos gráficos para las mediciones\n",
    "# y para la distribución de poisson\n",
    "# Esto es simplemente para comparar una de otra."
   ]
  },
  {
   "cell_type": "markdown",
   "id": "01dbbae5-e458-4bdf-8262-bb8bec4cf1ce",
   "metadata": {},
   "source": [
    "Vemos que el número 10 es un numero que dista mucho de los valores de la lista, por lo cual creeemos que es la señal que no detecto \n",
    "contaminación."
   ]
  },
  {
   "cell_type": "code",
   "execution_count": null,
   "id": "6363b457-15b3-431f-a4cb-cd079f8ee9f3",
   "metadata": {},
   "outputs": [],
   "source": []
  }
 ],
 "metadata": {
  "kernelspec": {
   "display_name": "Python 3 (ipykernel)",
   "language": "python",
   "name": "python3"
  },
  "language_info": {
   "codemirror_mode": {
    "name": "ipython",
    "version": 3
   },
   "file_extension": ".py",
   "mimetype": "text/x-python",
   "name": "python",
   "nbconvert_exporter": "python",
   "pygments_lexer": "ipython3",
   "version": "3.9.12"
  }
 },
 "nbformat": 4,
 "nbformat_minor": 5
}
