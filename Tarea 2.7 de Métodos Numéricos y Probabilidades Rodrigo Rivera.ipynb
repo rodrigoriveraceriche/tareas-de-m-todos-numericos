{
 "cells": [
  {
   "cell_type": "markdown",
   "id": "a969fa94-5b07-485c-805f-f156e93b8790",
   "metadata": {
    "tags": []
   },
   "source": [
    "# Tarea 2.7 de Métodos Numéricos y Probabilidades #\n",
    "\n",
    "\n",
    "Podemos obtener el resultado de la siguiente manera:\n"
   ]
  },
  {
   "cell_type": "code",
   "execution_count": 1,
   "id": "f7f8fe3d-7508-4938-b640-6fefa5e18ca7",
   "metadata": {},
   "outputs": [
    {
     "name": "stdout",
     "output_type": "stream",
     "text": [
      "El número 9.75 en binario con tamaño de 16 bits se representa como: 0100100011100000\n"
     ]
    }
   ],
   "source": [
    "# Primero lo que se hace es importar la librería de numpy\n",
    "import numpy as np\n",
    "\n",
    "# Nombrando nuestro numero como x\n",
    "x = 9.75\n",
    "\n",
    " \n",
    "\n",
    "x1 = np.float16(x) # Usamos np.float() para declarar el data type como un float de 16 bits.\n",
    "\n",
    "# https://numpy.org/doc/stable/user/basics.types.html?highlight=float16\n",
    "\n",
    "# view('int16') reinterpreta la variable como un entero sin signo segun el espacio que ocupa en la memoria.\n",
    "\n",
    "# https://numpy.org/doc/stable/reference/generated/numpy.ndarray.view.html\n",
    "\n",
    "x2 = x1.view('int16')\n",
    "\n",
    "\n",
    "\n",
    "x3 = bin(x2) # Tambien utilizamos bin() para mostrar la representacion binaria de un int como un str con el prefijo 0b\n",
    "\n",
    "# https://docs.python.org/3/library/functions.html#bin\n",
    "\n",
    "# [2:] selecciona los dos primeros caracteres del string, quitando el prefijo \"0b\"\n",
    "\n",
    "x4 = x3[2:]\n",
    "\n",
    "# También se usa str.zfill(), que es \n",
    "# un metodo que define una longitud o ancho del string, entregando una copia del mismo con los ceros a la izquierda.\n",
    "\n",
    "# https://docs.python.org/3/library/stdtypes.html#str.zfill\n",
    "x5 = x4.zfill(16) \n",
    "print(\"El número\", x, \"en binario con tamaño de 16 bits se representa como:\", x5)\n"
   ]
  },
  {
   "cell_type": "code",
   "execution_count": null,
   "id": "3194a89d-20fb-400a-bf90-f6785b6ba1a5",
   "metadata": {},
   "outputs": [],
   "source": []
  }
 ],
 "metadata": {
  "kernelspec": {
   "display_name": "Python 3 (ipykernel)",
   "language": "python",
   "name": "python3"
  },
  "language_info": {
   "codemirror_mode": {
    "name": "ipython",
    "version": 3
   },
   "file_extension": ".py",
   "mimetype": "text/x-python",
   "name": "python",
   "nbconvert_exporter": "python",
   "pygments_lexer": "ipython3",
   "version": "3.9.12"
  }
 },
 "nbformat": 4,
 "nbformat_minor": 5
}
