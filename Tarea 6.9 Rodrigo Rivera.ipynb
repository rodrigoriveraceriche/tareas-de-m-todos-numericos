{
 "cells": [
  {
   "cell_type": "markdown",
   "id": "8fef8ac1-b2f3-4f0a-b835-fa6a14da8606",
   "metadata": {},
   "source": [
    "### Tarea 6.9\n",
    "\n",
    "Encuentre una aproximación numérica para $(31)^{1/3}$ con un error relativo menor que $10^{-8}$ usando el método de bisección y el método de iteración de punto fijo. Compare el tiempo que tarda cada método."
   ]
  },
  {
   "cell_type": "code",
   "execution_count": 313,
   "id": "03276303-1390-433e-a4fe-aed2f314eaf0",
   "metadata": {},
   "outputs": [],
   "source": [
    "def f(x): # Se define la función que queremos evaluar\n",
    "    return x**3 - 31\n",
    "\n",
    "def biseccion(f, a, b, epsilon, N=1000000):\n",
    "    '''\n",
    "    Esta función da un valor para llegar al cero de la función que\n",
    "    estamos evaluando.\n",
    "    \n",
    "    Inputs:\n",
    "    \n",
    "    f: Es la función que uso en el metodo de bisección\n",
    "    \n",
    "    Variables a y b: Es el intervalo en donde quiero evaluar la función\n",
    "    \n",
    "    epsilon: Es el error del método.\n",
    "    \n",
    "    N: es el Número de iteraciones. \n",
    "    \n",
    "    Output:\n",
    "    Me lanzará un valor que me permite llegar al 0 de la función f\n",
    "    \n",
    "    '''\n",
    "    \n",
    "    for i in range(N):\n",
    "        p = a + (b - a)/2 # Se define el punto p.\n",
    "        print(p)\n",
    "        if abs(f(p)) < epsilon:\n",
    "            print(\"Cero en\", p, \"encontrado después de\", i, \"iteraciones.\")\n",
    "            return p\n",
    "        elif f(p)*f(a) > 0:\n",
    "            a = p\n",
    "        else:\n",
    "            b = p\n",
    "    print(\"No se encontró el cero después de\", N, \"iteraciones.\")\n",
    "    # Acá en general se establecieron las condiciones del método de bisección\n",
    "    # dando valores por cada iteración.\n",
    "    "
   ]
  },
  {
   "cell_type": "code",
   "execution_count": 307,
   "id": "03fa7a1a-e20c-478d-8836-75c4ef5919d9",
   "metadata": {},
   "outputs": [
    {
     "name": "stdout",
     "output_type": "stream",
     "text": [
      "3.5\n",
      "3.25\n",
      "3.125\n",
      "3.1875\n",
      "3.15625\n",
      "3.140625\n",
      "3.1484375\n",
      "3.14453125\n",
      "3.142578125\n",
      "3.1416015625\n",
      "3.14111328125\n",
      "3.141357421875\n",
      "3.1414794921875\n",
      "3.14141845703125\n",
      "3.141387939453125\n",
      "3.1413726806640625\n",
      "3.1413803100585938\n",
      "3.1413841247558594\n",
      "3.1413822174072266\n",
      "3.14138126373291\n",
      "3.141380786895752\n",
      "3.141380548477173\n",
      "3.1413806676864624\n",
      "3.1413806080818176\n",
      "3.14138063788414\n",
      "3.141380652785301\n",
      "3.1413806453347206\n",
      "3.141380649060011\n",
      "3.141380650922656\n",
      "3.1413806518539786\n",
      "3.14138065231964\n",
      "Cero en 3.14138065231964 encontrado después de 30 iteraciones.\n",
      "La raiz cúbica de 31 es 3.14138065231964 con un error del 0,0000000001\n"
     ]
    }
   ],
   "source": [
    "print(\"La raiz cúbica de 31 es\",biseccion(f, 3, 4, 1e-8), \"con un error del 0,0000000001\")\n",
    "# El numero 1^-10 significa que el error es menor que el 10^-8, \n",
    "# que es la letra epsilon.\n",
    "# Se establece el intervalo [3, 4], ya que la raiz \n",
    "# cúbica de 31 se encuentra entre 27^(1/3) y 64^(1/3)."
   ]
  },
  {
   "cell_type": "markdown",
   "id": "01169d49-0f37-4300-9b43-54c9da03d6ac",
   "metadata": {},
   "source": [
    "El tiempo de ejecución de esta función la podemos hacer con \"%time\"."
   ]
  },
  {
   "cell_type": "code",
   "execution_count": 182,
   "id": "351d6e23-641c-41a2-9686-30d139b5f1b4",
   "metadata": {},
   "outputs": [
    {
     "name": "stdout",
     "output_type": "stream",
     "text": [
      "3.5\n",
      "3.25\n",
      "3.125\n",
      "3.1875\n",
      "3.15625\n",
      "3.140625\n",
      "3.1484375\n",
      "3.14453125\n",
      "3.142578125\n",
      "3.1416015625\n",
      "3.14111328125\n",
      "3.141357421875\n",
      "3.1414794921875\n",
      "3.14141845703125\n",
      "3.141387939453125\n",
      "3.1413726806640625\n",
      "3.1413803100585938\n",
      "3.1413841247558594\n",
      "3.1413822174072266\n",
      "3.14138126373291\n",
      "3.141380786895752\n",
      "3.141380548477173\n",
      "3.1413806676864624\n",
      "3.1413806080818176\n",
      "3.14138063788414\n",
      "3.141380652785301\n",
      "3.1413806453347206\n",
      "3.141380649060011\n",
      "3.141380650922656\n",
      "3.1413806518539786\n",
      "3.14138065231964\n",
      "Cero en 3.14138065231964 encontrado después de 30 iteraciones.\n",
      "CPU times: total: 0 ns\n",
      "Wall time: 1 ms\n"
     ]
    },
    {
     "data": {
      "text/plain": [
       "3.14138065231964"
      ]
     },
     "execution_count": 182,
     "metadata": {},
     "output_type": "execute_result"
    }
   ],
   "source": [
    "%time biseccion(f,3,4,1e-8)"
   ]
  },
  {
   "cell_type": "code",
   "execution_count": null,
   "id": "c7fed4a5-4738-4f6a-9b58-c89828b39746",
   "metadata": {},
   "outputs": [],
   "source": [
    "class MaxIterations(Exception):\n",
    "    pass"
   ]
  },
  {
   "cell_type": "code",
   "execution_count": 185,
   "id": "e056ab9a-b37c-4c94-8928-9262a3aba99b",
   "metadata": {},
   "outputs": [],
   "source": [
    "def iter_func(g, po, epsilon, N=1000000):\n",
    "    '''\n",
    "    Esta función usa un punto fijo de una función g\n",
    "    para encontrar el valor que se acerca al cero de mi función\n",
    "    \n",
    "    Inputs.\n",
    "    \n",
    "    g: la función que se usa.\n",
    "    po: es el punto fijo.\n",
    "    epsilon: es el error de la función\n",
    "    \n",
    "    \n",
    "    '''\n",
    "    \n",
    "    for i in range(N):\n",
    "        p = g(po)\n",
    "        if abs(p - po)/abs(po) < epsilon: # Se define la condición de para el\n",
    "                                          # método de punto fijo.\n",
    "            return p, i\n",
    "        else:\n",
    "            po = p\n",
    "    \n",
    "    raise MaxIterations(\"No se encontró el punto fijo luego de\", N, \"iteraciones.\")"
   ]
  },
  {
   "cell_type": "code",
   "execution_count": 311,
   "id": "61a78b9a-01a7-4d8f-aeea-ea5843b3f702",
   "metadata": {},
   "outputs": [],
   "source": [
    "def g(x):\n",
    "    return (31 - x**(1/7))**(1/3) + 0.0403 \n",
    "# Aquí defini una función que me permitira acercarme al valor que quiero llegar."
   ]
  },
  {
   "cell_type": "code",
   "execution_count": 308,
   "id": "03748041-bce7-4b70-8237-fb88c13c865e",
   "metadata": {},
   "outputs": [
    {
     "data": {
      "text/plain": [
       "(3.141386923319102, 3)"
      ]
     },
     "execution_count": 308,
     "metadata": {},
     "output_type": "execute_result"
    }
   ],
   "source": [
    "iter_func(g, 3.5, 1e-8)"
   ]
  },
  {
   "cell_type": "code",
   "execution_count": 312,
   "id": "2f2a2daf-c91e-4fc1-ac9f-06bf8ecff168",
   "metadata": {},
   "outputs": [
    {
     "name": "stdout",
     "output_type": "stream",
     "text": [
      "CPU times: total: 0 ns\n",
      "Wall time: 0 ns\n"
     ]
    },
    {
     "data": {
      "text/plain": [
       "(3.141386923319102, 3)"
      ]
     },
     "execution_count": 312,
     "metadata": {},
     "output_type": "execute_result"
    }
   ],
   "source": [
    "%time iter_func(g,3.5,1e-8)\n",
    "# Hacemos lo mismo para medir el tiempo que hicimos anteriormente\n",
    "# con el método de bisección."
   ]
  },
  {
   "cell_type": "markdown",
   "id": "a94a2360-fee1-46bc-bad8-5d33625ef115",
   "metadata": {},
   "source": [
    "Comparando los tiempos entre cada método, vemos que el método de bisección es un poquito mas lento que\n",
    "el metodo de iteración por punto fijo."
   ]
  },
  {
   "cell_type": "code",
   "execution_count": null,
   "id": "49bbed08-496d-4c63-ab05-63dbbd8056b9",
   "metadata": {},
   "outputs": [],
   "source": []
  }
 ],
 "metadata": {
  "kernelspec": {
   "display_name": "Python 3 (ipykernel)",
   "language": "python",
   "name": "python3"
  },
  "language_info": {
   "codemirror_mode": {
    "name": "ipython",
    "version": 3
   },
   "file_extension": ".py",
   "mimetype": "text/x-python",
   "name": "python",
   "nbconvert_exporter": "python",
   "pygments_lexer": "ipython3",
   "version": "3.9.12"
  }
 },
 "nbformat": 4,
 "nbformat_minor": 5
}
