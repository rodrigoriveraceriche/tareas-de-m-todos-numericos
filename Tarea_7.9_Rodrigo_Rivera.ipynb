{
 "cells": [
  {
   "cell_type": "markdown",
   "id": "55d9691e-f448-4262-8d94-2fe701a6d3a0",
   "metadata": {
    "id": "55d9691e-f448-4262-8d94-2fe701a6d3a0"
   },
   "source": [
    "### Tarea 7.9\n",
    "\n",
    "Use un polinomio interpolante para aproximar la integral de una gaussiana con $\\sigma = 1$ y $\\mu = 0$, entre $x = 0$ y $x = 1$. Compare con el resultado obtenido a partir de\n",
    "\n",
    "$$\n",
    "\\int_0^a dx\\,e^{-x^2} = \\frac{\\sqrt{\\pi}}{2}\\text{erf}(a)\n",
    "$$\n",
    "\n",
    "donde $\\text{erf}(a)$ es la función de error y en python se puede llamar usando scipy.special.erf del modulo scipy."
   ]
  },
  {
   "cell_type": "code",
   "execution_count": 1,
   "id": "6c183fd1-27d4-447e-9908-1857de67a457",
   "metadata": {
    "id": "6c183fd1-27d4-447e-9908-1857de67a457"
   },
   "outputs": [],
   "source": [
    "import numpy as np\n",
    "import matplotlib.pyplot as plt\n",
    "from scipy import special"
   ]
  },
  {
   "cell_type": "markdown",
   "id": "2e162cd4-efa6-45b3-8533-22e8fdb3bb83",
   "metadata": {
    "id": "2e162cd4-efa6-45b3-8533-22e8fdb3bb83"
   },
   "source": [
    "Vamos a usar los polinomios de Legendre, que son de la forma:\n",
    "\n",
    "$$\n",
    "P(x) = a_{0} + a_{1}(x - x_{0}) + a_{2}(x - x_{0})(x - x_{1}) ... + a_{n}(x - x_{0})...(x - x_{n - 1})\n",
    "$$\n"
   ]
  },
  {
   "cell_type": "markdown",
   "id": "ed84cc7f-e20d-4643-bc3b-955c8f0cc108",
   "metadata": {
    "id": "ed84cc7f-e20d-4643-bc3b-955c8f0cc108"
   },
   "source": [
    "Para ello usaremos 3 puntos, entonces el polinomio quedaría de la forma:\n",
    "\n",
    "$$\n",
    "P(x) = a_{0} + a_{1}(x - x_{0}) + a_{2}(x - x_{0})(x - x_{1})\n",
    "$$\n",
    "\n",
    "Entonces la integral de este polinomio es:\n",
    "\n",
    "$$\n",
    "\\int_{a}^{b} dx P(x) = \\int_{a}^{b} dx (a_{0} + a_{1}(x - x_{0}) + a_{2}(x - x_{0})(x - x_{1}))\n",
    "$$\n"
   ]
  },
  {
   "cell_type": "markdown",
   "id": "8a0c22e9-137b-4bbd-bc9d-eb382c42abe9",
   "metadata": {
    "id": "8a0c22e9-137b-4bbd-bc9d-eb382c42abe9"
   },
   "source": [
    "La integral sería:\n",
    "\n",
    "$$\n",
    "\\int_{a}^{b} dx P(x) = x \\left[a_{0} + \\frac{a_{1}x}{2} - a_{1}x_{0} + \\frac{a_{2}x^{2}}{3} - \\frac{a_{2}x x_{1}}{2} - \\frac{a_{2}x_{0}x}{2} + a_{2}x_{0}x_{1}\\right]^{b}_{a}\n",
    "$$"
   ]
  },
  {
   "cell_type": "markdown",
   "id": "8fd0c006-b8b5-4b9f-979e-e14b1a6fb186",
   "metadata": {
    "id": "8fd0c006-b8b5-4b9f-979e-e14b1a6fb186"
   },
   "source": [
    "Esto nos servirá para calcular la integral aproximada de la función que queremos.\n",
    "Ahora queremos la lista de coeficientes del polinomio. Hay un total de 3 coeficientes en este caso."
   ]
  },
  {
   "cell_type": "code",
   "execution_count": 2,
   "id": "4d6a8031-3560-406e-a0b5-e963707c1c63",
   "metadata": {
    "id": "4d6a8031-3560-406e-a0b5-e963707c1c63"
   },
   "outputs": [],
   "source": [
    "def diferencias_divididas(puntos):\n",
    "    '''\n",
    "    Esta función obtiene los coeficientes del polinomio de\n",
    "    Legendre en función de los puntos del mismo.\n",
    "    \n",
    "    Input:\n",
    "\n",
    "    puntos = son los puntos del polinomio.\n",
    "    '''\n",
    "    n = len(puntos) - 1 # Número del coeficientes\n",
    "    Fs_coef = [np.zeros(n + 1)] # Son los coeficientes de del polinomio.\n",
    "    for i in range(n + 1):\n",
    "        Fs_coef[0][i] = puntos[i][1] # El coeficiente 0 del polinomio equivale \n",
    "                                    # al punto número 1\n",
    "    for i in range(1, n + 1):\n",
    "        Fs_coef.append(np.zeros(n + 1 - i))\n",
    "        for j in range(1, i + 1):\n",
    "            Fs_coef[j][i-j] = (Fs_coef[j-1][i-j+1] - Fs_coef[j-1][i-j])/(puntos[i][0] - puntos[i-j][0])\n",
    "    \n",
    "    return [Fs_coef[i][0] for i in range(n + 1)]\n",
    "    # Se agregan los coeficientes mediante la compresión de listas segun el grado\n",
    "    # del polinomio."
   ]
  },
  {
   "cell_type": "code",
   "execution_count": 3,
   "id": "9ff697e5-ae77-427e-8035-8cf17de393eb",
   "metadata": {
    "id": "9ff697e5-ae77-427e-8035-8cf17de393eb"
   },
   "outputs": [],
   "source": [
    "def Integración_Legendre(coeficientes, puntos, limite_de_integracion = [0,1]):\n",
    "    \n",
    "    '''\n",
    "    Esta función calcula la integral del polinomio de Legendre.\n",
    "    \n",
    "    Inputs:\n",
    "    \n",
    "    coeficientes = son los coeficientes del polinomio.\n",
    "    \n",
    "    puntos = los puntos del polinomio. En este caso vamos a usar 3\n",
    "    \n",
    "    limite_de_integración = el intervalo de evaluación de la integral.\n",
    "    '''\n",
    "    a_0,a_1,a_2 = coeficientes\n",
    "    x_0,x_1,x_2 = puntos[:,0] # Son los puntos iniciales.\n",
    "    a,b = limite_de_integracion\n",
    "    \n",
    "    Integral_2 = b*(a_0 + (a_1*b)/2 - a_1*x_0 + (a_2*b**(2))/3 - (a_2*b*x_1)/2 - (a_2*x_0*b)/2 + a_2*x_0*x_1)\n",
    "    # Es la integral definida dentro de [a,b] en b.\n",
    "    \n",
    "    Integral_1 = a*(a_0 + (a_1*a)/2 - a_1*x_0 + (a_2*a**(2))/3 - (a_2*a*x_1)/2 - (a_2*x_0*a)/2 + a_2*x_0*x_1)\n",
    "    # Es la integral definida en [a,b] en a.\n",
    "    return Integral_2 - Integral_1\n",
    "    # Se procede a usar la definición de Integral definida."
   ]
  },
  {
   "cell_type": "code",
   "execution_count": 4,
   "id": "4bd75b2a-a494-4140-92e4-ce0af35797e1",
   "metadata": {
    "colab": {
     "base_uri": "https://localhost:8080/"
    },
    "id": "4bd75b2a-a494-4140-92e4-ce0af35797e1",
    "outputId": "709e90f1-01bf-4359-dcfb-d00fd3c2ac5c"
   },
   "outputs": [
    {
     "name": "stdout",
     "output_type": "stream",
     "text": [
      "La integral de legendre aproximada a la gaussiana es 0.7471804289095103\n",
      "La integral de la gaussiana es 0.7468241328124269\n"
     ]
    }
   ],
   "source": [
    "x = np.linspace(0,1,3)\n",
    "puntos = np.array([[xi, np.exp((-1)*xi**2)] for xi in x])\n",
    "# Acá lo que se hace es la compresión de listas como un arreglo de los puntos\n",
    "# de la función gaussiana. En este caso seran 3\n",
    "\n",
    "coeficientes = diferencias_divididas(puntos) # Como ya definimos, se hace la diferencias\n",
    "                                       # divididas para calcular los coeficientes del\n",
    "                                       # polinomio en funcion del número de puntos.\n",
    "\n",
    "Integración_Polinomio_Legendre = Integración_Legendre(coeficientes, puntos, (0,1)) # Se calcula la integral aproximada\n",
    "                                                                                  # con el polinomio de Legendre\n",
    "                     \n",
    "Integral_Gaussiana = (np.sqrt(np.pi)/2)*special.erf(1) # Calculamos la gaussiana con la formula\n",
    "                                                       # definida anteriormente.\n",
    "\n",
    "print(\"La integral de legendre aproximada a la gaussiana es\",Integración_Polinomio_Legendre  )\n",
    "print(\"La integral de la gaussiana es\", Integral_Gaussiana) \n"
   ]
  },
  {
   "cell_type": "markdown",
   "id": "hlVfx8FJhK0D",
   "metadata": {
    "id": "hlVfx8FJhK0D"
   },
   "source": [
    "Para caluclar el error, definimos:"
   ]
  },
  {
   "cell_type": "code",
   "execution_count": 5,
   "id": "5066fa56-2ccf-4b1c-9c57-c13d7e0fa5f9",
   "metadata": {
    "colab": {
     "base_uri": "https://localhost:8080/"
    },
    "id": "5066fa56-2ccf-4b1c-9c57-c13d7e0fa5f9",
    "outputId": "9c328424-ab6e-434d-d87c-65a60b11a71d"
   },
   "outputs": [
    {
     "name": "stdout",
     "output_type": "stream",
     "text": [
      "La integral se calculó con un error del 0.04770816600980385 %\n"
     ]
    }
   ],
   "source": [
    "Error= (abs(Integración_Polinomio_Legendre - Integral_Gaussiana)/abs(Integral_Gaussiana))*100 \n",
    "# Este es el error porcentual.\n",
    "                                                                                              \n",
    "print(\"La integral se calculó con un error del\", Error, \"%\")"
   ]
  },
  {
   "cell_type": "markdown",
   "id": "YO0Vlc3wEckR",
   "metadata": {
    "id": "YO0Vlc3wEckR"
   },
   "source": [
    "No se aleja mucho de la integral real."
   ]
  },
  {
   "cell_type": "markdown",
   "id": "c5c8e9c5",
   "metadata": {},
   "source": [
    "# Calificación: 7.0"
   ]
  },
  {
   "cell_type": "markdown",
   "id": "97ec64f9",
   "metadata": {},
   "source": []
  }
 ],
 "metadata": {
  "colab": {
   "collapsed_sections": [],
   "provenance": []
  },
  "kernelspec": {
   "display_name": "Python 3 (ipykernel)",
   "language": "python",
   "name": "python3"
  },
  "language_info": {
   "codemirror_mode": {
    "name": "ipython",
    "version": 3
   },
   "file_extension": ".py",
   "mimetype": "text/x-python",
   "name": "python",
   "nbconvert_exporter": "python",
   "pygments_lexer": "ipython3",
   "version": "3.9.12"
  }
 },
 "nbformat": 4,
 "nbformat_minor": 5
}
