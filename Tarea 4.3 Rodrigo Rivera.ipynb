{
 "cells": [
  {
   "cell_type": "code",
   "execution_count": 2,
   "id": "3f88ae26-8694-4703-aed2-838869c326de",
   "metadata": {},
   "outputs": [],
   "source": [
    "import numpy as np \n",
    "import matplotlib.pyplot as plt\n",
    "import math as mt"
   ]
  },
  {
   "cell_type": "code",
   "execution_count": 74,
   "id": "183d945a-b917-4580-a2aa-b374a535d2c6",
   "metadata": {},
   "outputs": [],
   "source": [
    "def taylor_cos(n,x):\n",
    "    '''\n",
    "    Esta función evalua la serie de taylor del coseno, \n",
    "    con número de términos n y x es donde se evalúa el\n",
    "    coseno.\n",
    "    \n",
    "    Inputs.\n",
    "    \n",
    "    n: número de términos\n",
    "    x: punto de evaluación\n",
    "    \n",
    "    Output.\n",
    "    \n",
    "    Es la aproximación de la sumatoria de Taylor \n",
    "    cuando yo evaluó para el n término en el punto x.\n",
    "    \n",
    "    '''\n",
    "    lista_de_términos = [] # Definimos una lista en donde iremos\n",
    "                           # agregándo los términos de la sumatoria,\n",
    "                           # para después sumarlos.\n",
    "    \n",
    "    cos = 0            # El coseno debe empezar en 0, por como\n",
    "                       # funciona la suma del código.\n",
    "                       \n",
    "    \n",
    "    if n > 10:         # Hay un limite para las n que podemos gráficar, \n",
    "                       # ya que más adelante tenemos un factorial de 2n\n",
    "                       # en las siguientes líneas.           \n",
    "        print(\"El cálculo es muy grande.\")\n",
    "    else:\n",
    "        #a\n",
    "        if any(x) == 0: # ponemos la condicional de que si algún x es igual \n",
    "                        # a 0, retorna el valor de 1 para ese x. Esto es debido a\n",
    "                        # que la serie se indefine en x = 0.\n",
    "        \n",
    "            return 1 \n",
    "    \n",
    "        else: \n",
    "            # Por otro lado, para otro valor de x\n",
    "            # se hace la serie de taylor.\n",
    "            \n",
    "            for i in range(n+1): # el rango debe ser hasta n+1, ya que la\n",
    "                             # sumatoria es desde 0 hasta n.\n",
    "        \n",
    "                términos = (((-1)**i)*(x**(2*i))/(mt.factorial(2*i))) # Acá se define la serie de Taylor\n",
    "                                                                      # para el coseno.\n",
    "        \n",
    "                lista_de_términos.append(términos)          # Acá lo que hacemos es agregar los valores\n",
    "                                                            # de la serie a la lista que definimos \n",
    "                                                            # anteriormente.\n",
    "    \n",
    "            for i in range(len(lista_de_términos)):         # Se define otro ciclo para poder hacer la\n",
    "                                                            # sumatoria.\n",
    "        \n",
    "                cos += lista_de_términos[i]\n",
    "\n",
    "        return cos    # Finalizamos el proceso, devolviendo el valor\n",
    "                  # del coseno.\n",
    "    \n",
    "\n"
   ]
  },
  {
   "cell_type": "code",
   "execution_count": 85,
   "id": "2c2b0b7f-f52b-4d8f-9f67-62e59dfd03a8",
   "metadata": {},
   "outputs": [
    {
     "data": {
      "text/plain": [
       "array([6.66456434])"
      ]
     },
     "execution_count": 85,
     "metadata": {},
     "output_type": "execute_result"
    }
   ],
   "source": [
    "x = np.linspace(10,10,1) # Como el any de la anterior celda se usa para arrays\n",
    "                             # necesitamos arrays de 1 de largo para evaluar casos específicos\n",
    "taylor_cos(10,x)"
   ]
  },
  {
   "cell_type": "code",
   "execution_count": 88,
   "id": "e65a686a-4b2f-4844-b324-0386f675003f",
   "metadata": {},
   "outputs": [
    {
     "data": {
      "text/plain": [
       "Text(0, 0.5, 'Valores aproximado del coseno')"
      ]
     },
     "execution_count": 88,
     "metadata": {},
     "output_type": "execute_result"
    },
    {
     "data": {
      "image/png": "[encoded data removed]",
      "text/plain": [
       "<Figure size 432x288 with 1 Axes>"
      ]
     },
     "metadata": {
      "needs_background": "light"
     },
     "output_type": "display_data"
    }
   ],
   "source": [
    "x = np.linspace(0,2*np.pi,100)\n",
    "n = 2\n",
    "\n",
    "# Aca lo que se hace es definir x como una serie de valores \n",
    "# para poder graficarlos, con n igual 2\n",
    "\n",
    "plt.plot(x,taylor_cos(n,x))\n",
    "plt.title(\"Grárfico de la serie de Taylor con n igual 2\")\n",
    "plt.xlabel(\"Valores de x\")\n",
    "plt.ylabel(\"Valores aproximado del coseno\")"
   ]
  },
  {
   "cell_type": "markdown",
   "id": "1fd01ce3-05fa-4d3e-8399-3cdb28f1ddf8",
   "metadata": {},
   "source": [
    "Acá tenemos el gráfico aproximado de la serie de Taylor para el coseno.\n",
    "Se puede ver que la serie entre el 2 y el 3, se empieza a romper"
   ]
  },
  {
   "cell_type": "code",
   "execution_count": 89,
   "id": "6bb8b446-6bb7-4a16-b290-b319a5064367",
   "metadata": {},
   "outputs": [
    {
     "data": {
      "text/plain": [
       "Text(0, 0.5, 'Valores aproximado del coseno')"
      ]
     },
     "execution_count": 89,
     "metadata": {},
     "output_type": "execute_result"
    },
    {
     "data": {
      "image/png": "[encoded data removed]",
      "text/plain": [
       "<Figure size 432x288 with 1 Axes>"
      ]
     },
     "metadata": {
      "needs_background": "light"
     },
     "output_type": "display_data"
    }
   ],
   "source": [
    "x = np.linspace(0,2*np.pi,100)\n",
    "n = 6\n",
    "\n",
    "# Aca lo que se hace es definir x como una serie de valores \n",
    "# para poder graficarlos, con n igual 6.\n",
    "\n",
    "plt.plot(x,taylor_cos(n,x))\n",
    "plt.title(\"Grárfico de la serie de Taylor con n igual 6\")\n",
    "plt.xlabel(\"Valores de x\")\n",
    "plt.ylabel(\"Valores aproximado del coseno\")"
   ]
  },
  {
   "cell_type": "markdown",
   "id": "2057c726-3347-4d42-8a19-6d2a57e43549",
   "metadata": {},
   "source": [
    "Acá se puede ver que el gráfico se empieza a romper cuando x vale 6."
   ]
  },
  {
   "cell_type": "code",
   "execution_count": null,
   "id": "47eeb80c-d281-4eaf-9341-de897c85ce9d",
   "metadata": {},
   "outputs": [],
   "source": []
  }
 ],
 "metadata": {
  "kernelspec": {
   "display_name": "Python 3 (ipykernel)",
   "language": "python",
   "name": "python3"
  },
  "language_info": {
   "codemirror_mode": {
    "name": "ipython",
    "version": 3
   },
   "file_extension": ".py",
   "mimetype": "text/x-python",
   "name": "python",
   "nbconvert_exporter": "python",
   "pygments_lexer": "ipython3",
   "version": "3.9.12"
  }
 },
 "nbformat": 4,
 "nbformat_minor": 5
}
