{
 "cells": [
  {
   "cell_type": "markdown",
   "metadata": {
    "id": "iDmw_i6YMxkY"
   },
   "source": [
    "## Tarea 8.3\n",
    "Considere una curva gaussiana con media $0$ y varianza $1$. Aproxime esta curva con una spline cúbica usando 5 puntos entre $x = 0$ y $x = 2$. Use esta spline para calcular la integral de la función. Compare el resultado con su valor exacto (ver la función de error de tareas anteriores).\n"
   ]
  },
  {
   "cell_type": "code",
   "execution_count": 3,
   "metadata": {
    "id": "p1xgbeEGnIMZ"
   },
   "outputs": [],
   "source": [
    "import numpy as np \n",
    "import matplotlib.pyplot as plt\n",
    "from scipy import special "
   ]
  },
  {
   "cell_type": "code",
   "execution_count": 49,
   "metadata": {
    "id": "JNp7HEW6nTI_"
   },
   "outputs": [],
   "source": [
    "def Encontrando_indices(x, puntos):\n",
    "    '''\n",
    "    Esta funcion encuentra los índices de los puntos.\n",
    "    '''\n",
    "    for i in range(len(puntos)): \n",
    "        # Inicamos un ciclo for para la longitud de los puntos\n",
    "        if x < puntos[i,0] and i != 0: # Aquí se definen con la condicional\n",
    "                                       # los indices de los puntos\n",
    "            \n",
    "            return i-1\n",
    "#Esto nos permitirá interpolar los puntos para la spline cúbica.\n",
    "def Interpolación_Lineal(x, puntos):\n",
    "    \n",
    "    '''\n",
    "    Esta función representa la interpolacion lineal\n",
    "    de la splitline\n",
    "    '''\n",
    "    if x >= puntos[len(puntos)-1,0]:\n",
    "        return puntos[len(puntos)-1,1]\n",
    "    elif x <= puntos[0,0]:\n",
    "        return puntos[0,1]\n",
    "    \n",
    "    i = Encontrando_indices(x, puntos)\n",
    "    Lo = puntos[i][1]*(x - puntos[i+1][0])/(puntos[i][0] - puntos[i+1][0])\n",
    "    L1 = puntos[i+1][1]*(x - puntos[i][0])/(puntos[i+1][0] - puntos[i][0])\n",
    "    return Lo + L1\n",
    "    # Al final interpolamos la spliline de forma lineal, usando la funcion\n",
    "    # Encontrando indices para cada interpolacion de puntos."
   ]
  },
  {
   "cell_type": "markdown",
   "metadata": {
    "id": "kAOTrAFpn7ly"
   },
   "source": [
    "Ahora empezaremos a calcular los coeficientes del spline."
   ]
  },
  {
   "cell_type": "code",
   "execution_count": 50,
   "metadata": {
    "id": "sAf0CmyooC58"
   },
   "outputs": [],
   "source": [
    "def spline_coeficientes(puntos):\n",
    "    '''\n",
    "    Esta función calcula los coeficientes de la spline cúbica,\n",
    "    para los polinomios de orden 3, que tiene interpolar\n",
    "\n",
    "    Input:\n",
    "\n",
    "    puntos: son los puntos que del polinomio de orden 3 que queremos\n",
    "    interpolar\n",
    "    '''\n",
    "    n = len(puntos) - 1\n",
    "    \n",
    "    h = np.zeros(n)\n",
    "    for i in range(n):\n",
    "        h[i] = puntos[i + 1][0] - puntos[i][0]\n",
    "    \n",
    "    a_0 = puntos[:,1]\n",
    "    alpha = np.zeros(n - 1)\n",
    "    for i in range(1, n):\n",
    "        alpha[i-1] = (3/h[i])*(a_0[i+1] - a_0[i]) - (3/h[i-1])*(a_0[i] - a_0[i-1])\n",
    "        \n",
    "        \n",
    "    # Acá solamente se resuelve un sistema de ecuaciones.\n",
    "    # Se utilizan una serie de variables con nombres simples por\n",
    "    # convenciencia:\n",
    "    l = np.ones(n + 1)\n",
    "    mu = np.zeros(n)\n",
    "    z = np.zeros(n + 1)\n",
    "    for i in range(1, n):\n",
    "        l[i] = 2*(puntos[i+1][0] - puntos[i-1][0]) - h[i-1]*mu[i-1]\n",
    "        mu[i] = h[i]/l[i]\n",
    "        z[i] = (alpha[i-1] - h[i-1]*z[i-1])/l[i]\n",
    "    a_1 = np.zeros(n)\n",
    "    a_2 = np.zeros(n+1)\n",
    "    a_3 = np.zeros(n)\n",
    "    for j in range(n-1,-1,-1):\n",
    "        a_2[j] = z[j] - mu[j]*a_2[j+1]\n",
    "        a_1[j] = (a_0[j+1] - a_0[j])/h[j] - h[j]*(a_2[j+1] + 2*a_2[j])/3\n",
    "        a_3[j] = (a_2[j+1] - a_2[j])/(3*h[j])\n",
    "        \n",
    "    return a_0, a_1, a_2, a_3\n",
    "\n",
    "def Evaluacion_Spline(x, coeficientes, puntos):\n",
    "    \n",
    "    '''\n",
    "    Esta función aproxima el polinomio de la spline a otra\n",
    "    función dependiente de x.\n",
    "    \n",
    "    Input:\n",
    "    x = la variable de evaluación\n",
    "    coeficientes = son los coeficientes de la \n",
    "                   spline cúbica.\n",
    "                   \n",
    "    puntos: Son los puntos del polinomio cúbico.             \n",
    "    \n",
    "    '''\n",
    "    if x >= puntos[-1,0]:\n",
    "        return puntos[-1,1]\n",
    "    elif x <= puntos[0,0]:\n",
    "        return puntos[0,1]\n",
    "    \n",
    "    i = Encontrando_indices(x, puntos)\n",
    "    a_0, a_1, a_2, a_3 = coeficientes\n",
    "    return (a_0[i] + a_1[i]*(x - puntos[i][0]) + \\\n",
    "              a_2[i]*(x - puntos[i][0])**2 + a_3[i]*(x - puntos[i][0])**3) \n",
    "  \n",
    "# Regresa el polinomio cúbico, pero ahora con los coeficientes y representando\n",
    "# el polinomio cúbico como una función.\n",
    "\n",
    "# Lo que se hace generalmente es "
   ]
  },
  {
   "cell_type": "code",
   "execution_count": 47,
   "metadata": {
    "colab": {
     "base_uri": "https://localhost:8080/",
     "height": 281
    },
    "id": "NJjz8zRuoWjZ",
    "outputId": "d35532ba-ac45-4051-c3a4-af66d25074d6"
   },
   "outputs": [
    {
     "data": {
      "image/png": "[encoded data removed]",
      "text/plain": [
       "<Figure size 432x288 with 1 Axes>"
      ]
     },
     "metadata": {
      "needs_background": "light"
     },
     "output_type": "display_data"
    }
   ],
   "source": [
    "minimo = 0    # Acá se definen los límites de integración\n",
    "maximo = 2 \n",
    "order = 5     # Se escogen 5 puntos.\n",
    "\n",
    "xp = np.linspace(minimo, maximo, order)\n",
    "puntos = np.array([[xi, np.exp((-1)*xi**2)] for xi in xp])\n",
    "coeficientes= spline_coeficientes(puntos)\n",
    "\n",
    "x = np.linspace(minimo, maximo, 100)\n",
    "función_exacta = np.exp((-1)*x**2) # Está es la función gaussiana.\n",
    "spline = [Evaluacion_Spline(xi, coeficientes, puntos) for xi in x] \n",
    "# Aquí se hace la compresión de listas para los puntos de la Spline\n",
    "\n",
    "plt.scatter(puntos[:,0], puntos[:,1], color='red')\n",
    "plt.plot(x, exact,label=\"Gaussiana Exacta $e^{-x^2}$\", color=\"purple\") \n",
    "# Se gráfica la exponencial exacta, mientras que en la linea de\n",
    "# abajo gráfica la spline.\n",
    "plt.plot(x, spline, label=\"Gaussiana Spline\", color=\"green\")\n",
    "plt.title(\"Gráfico Comparativo entre una gaussiana $e^{-x^2}$ y un Spline Cúbica Suavizada\")\n",
    "plt.legend()\n",
    "plt.show()"
   ]
  },
  {
   "cell_type": "markdown",
   "metadata": {
    "id": "rHdgHikfOigK"
   },
   "source": [
    "La spliline cúbica tiene un polinomio de orden 3, de la forma:\n",
    "\n",
    "$$\n",
    "P(x) = a_{0} + a_{1}(x - x_{0}) + a_{2}(x - x_{0})^2 + a_{3}(x - x_{0})^3 \n",
    "$$\n",
    "\n",
    "Que es el polinomio que está en la función Evaluación_Spline.\n",
    "\n",
    "La integral de esta spline es:\n",
    "$$\n",
    "\\int_{0}^{2} dx P(x) = \\int_{0}^{0.5} dx P(x) + \\int_{0.5}^{1} dx P(x) + \\int_{1}^{1.5} dx P(x) + \\int_{1.5}^{2} dx P(x)\n",
    "$$\n",
    "\n",
    "lo que quedaría como:\n",
    "\n",
    "$$\n",
    "\\int_{0}^{2} dx (a_{0} + a_{1}(x - x_{0}) + a_{2}(x - x_{0})^2 + a_{3}(x - x_{0})^3) = \\int_{0}^{0.5} dx (a_{0} + a_{1}(x - x_{0}) + a_{2}(x - x_{0})^2 + a_{3}(x - x_{0})^3) + \\int_{0.5}^{1} dx (a_{0} + a_{1}(x - x_{0}) + a_{2}(x - x_{0})^2 + a_{3}(x - x_{0})^3) + \\int_{1}^{1.5} dx (a_{0} + a_{1}(x - x_{0}) + a_{2}(x - x_{0})^2 + a_{3}(x - x_{0})^3) + \\int_{1.5}^{2} dx (a_{0} + a_{1}(x - x_{0}) + a_{2}(x - x_{0})^2 + a_{3}(x - x_{0})^3)\n",
    "$$\n",
    "\n",
    "y esto sería igual a:\n",
    "\n",
    "$$\n",
    "\\int_{0}^{2} dx (a_{0} + a_{1}(x - x_{0}) + a_{2}(x - x_{0})^2 + a_{3}(x - x_{0})^3) = \\left[a_{0}x + a_{1}(\\frac{x^2}{2} - x_0 x) + a_{2}\\frac{(x - x_{0})^3}{3} + a_3\\frac{(x - x_0)^4}{4}\\right]^{0.5}_{0} + \\left[a_{0}x + a_{1}(\\frac{x^2}{2} - x_0 x) + a_{2}\\frac{(x - x_{0})^3}{3} + a_3\\frac{(x - x_0)^4}{4}\\right]^{1}_{0.5} + \\left[a_{0}x + a_{1}(\\frac{x^2}{2} - x_0 x) + a_{2}\\frac{(x - x_{0})^3}{3} + a_3\\frac{(x - x_0)^4}{4}\\right]^{1.5}_{1} + \\left[a_{0}x + a_{1}(\\frac{x^2}{2} - x_0 x) + a_{2}\\frac{(x - x_{0})^3}{3} + a_3\\frac{(x - x_0)^4}{4}\\right]^{2}_{1.5}\n",
    "$$"
   ]
  },
  {
   "cell_type": "markdown",
   "metadata": {
    "id": "QA6LLLowwdEp"
   },
   "source": []
  },
  {
   "cell_type": "code",
   "execution_count": null,
   "metadata": {
    "id": "h3vEcELKon4Z"
   },
   "outputs": [],
   "source": []
  },
  {
   "cell_type": "code",
   "execution_count": null,
   "metadata": {},
   "outputs": [],
   "source": []
  }
 ],
 "metadata": {
  "colab": {
   "provenance": []
  },
  "kernelspec": {
   "display_name": "Python 3 (ipykernel)",
   "language": "python",
   "name": "python3"
  },
  "language_info": {
   "codemirror_mode": {
    "name": "ipython",
    "version": 3
   },
   "file_extension": ".py",
   "mimetype": "text/x-python",
   "name": "python",
   "nbconvert_exporter": "python",
   "pygments_lexer": "ipython3",
   "version": "3.9.12"
  }
 },
 "nbformat": 4,
 "nbformat_minor": 4
}
