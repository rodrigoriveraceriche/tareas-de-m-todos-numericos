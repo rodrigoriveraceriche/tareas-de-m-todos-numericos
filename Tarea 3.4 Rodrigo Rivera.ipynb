{
 "cells": [
  {
   "cell_type": "markdown",
   "id": "d50ec810-402d-483b-a7f8-9d98c55243ef",
   "metadata": {},
   "source": [
    "## Tarea 3.4 de Métodos Numéricos y Probabilidades\n",
    "\n",
    "La siguiente es una lista de las edades de los alumnos de un curso de segundo año:"
   ]
  },
  {
   "cell_type": "code",
   "execution_count": 1,
   "id": "9d13af2a-e561-4b88-b716-9bd4f6eea8c1",
   "metadata": {},
   "outputs": [],
   "source": [
    "edades = [19.0, 18.7, 19.3, 19.2, 18.9, 19.0, 20.2, 19.9, 18.6, 19.4, 19.3, 18.8, 19.3, 19.2, 18.7, 18.5, 18.6, 19.7,\n",
    "19.9, 20.0, 19.5, 19.4, 19.6, 20.0, 18.9]"
   ]
  },
  {
   "cell_type": "markdown",
   "id": "3684514d-9d1f-4147-abed-73f7acfce47d",
   "metadata": {},
   "source": [
    "Grafique estos datos usando el tipo de gráfico que mejor los represente. Calcule el promedio y la varianza. Repita el mismo proceso incluyendo al profesor (edad 37.0). Note que el promedio cambia poco pero la varianza cambia bastante."
   ]
  },
  {
   "cell_type": "markdown",
   "id": "03d866fb-5e57-4ed8-ae45-3c824fc49181",
   "metadata": {},
   "source": [
    "## Solución."
   ]
  },
  {
   "cell_type": "code",
   "execution_count": 4,
   "id": "b27dd9bf-da04-470e-a6cb-9cb877f6eae3",
   "metadata": {
    "tags": []
   },
   "outputs": [],
   "source": [
    "# Importamos las siguientes librerías correspondientes.\n",
    "\n",
    "import matplotlib.pyplot as plt\n",
    "import numpy as np"
   ]
  },
  {
   "cell_type": "code",
   "execution_count": 5,
   "id": "651cedff-cebc-4d92-b1d9-439e4e0e3108",
   "metadata": {},
   "outputs": [
    {
     "data": {
      "image/png": "[encoded data removed]",
      "text/plain": [
       "<Figure size 432x288 with 1 Axes>"
      ]
     },
     "metadata": {
      "needs_background": "light"
     },
     "output_type": "display_data"
    }
   ],
   "source": [
    "edades = [19.0, 18.7, 19.3, 19.2, 18.9, 19.0, 20.2, 19.9, 18.6, 19.4, 19.3, 18.8, 19.3, 19.2, 18.7, 18.5, 18.6, 19.7,\n",
    "19.9, 20.0, 19.5, 19.4, 19.6, 20.0, 18.9]\n",
    "\n",
    "rango = (18, 21) # Establecemos un rango para poder generar nuestro gráfico\n",
    "bins = 5 # Establecemos un grupo de intervalos de 5 bins\n",
    "\n",
    "plt.hist(edades, bins, rango, rwidth = 0.8) # Generamos el gráfico como un histograma, añadiendo el espaciado de 0.8\n",
    "\n",
    "plt.xlabel(\"Edad\") # Nombramos al eje horizonal \"Edades\".\n",
    "plt.ylabel(\"Nº de Estudiantes\") # Hacemos lo mismo que en el otro eje, nombrandolo \"Nº de Estudiantes\"\n",
    "plt.title(\"Edades sin el profesor\") # Titulamos el gráfico: \"Edades sin el profesor\"\n",
    "\n",
    "plt.show()"
   ]
  },
  {
   "cell_type": "code",
   "execution_count": 12,
   "id": "9d2b8000-c996-4988-8618-d00112aef630",
   "metadata": {},
   "outputs": [
    {
     "data": {
      "image/png": "[encoded data removed]",
      "text/plain": [
       "<Figure size 432x288 with 1 Axes>"
      ]
     },
     "metadata": {
      "needs_background": "light"
     },
     "output_type": "display_data"
    }
   ],
   "source": [
    "edades2 =[19.0, 18.7, 19.3, 19.2, 18.9, 19.0, 20.2, 19.9, 18.6, 19.4, 19.3, 18.8, 19.3, 19.2, 18.7, 18.5, 18.6, 19.7,\n",
    "19.9, 20.0, 19.5, 19.4, 19.6, 20.0, 18.9, 37,0]\n",
    "\n",
    "rango = (18, 38) # Hacemos lo mismo que en el anterior codigo, solamente que aumentaremos el rango, porque se incluye una edad más grande\n",
    "bins = 30 # Estableceremos 30 bins para que se noten los intervalos de grupos distanciados de la edad mas grande\n",
    "\n",
    "\n",
    "\n",
    "plt.hist(edades2, bins, rango, histtype = \"bar\",rwidth = 0.8) \n",
    "\n",
    "\n",
    "plt.xlabel(\"Edad\")\n",
    "plt.ylabel(\"Nº de estudiantes con el profesor\")\n",
    "plt.title(\"Edades con el profesor\")\n",
    "\n",
    "# Aca se repite el procedimiento de ponerle nombre al gráfico y a sus respectivos ejes.\n",
    "# Tambien se grafica los datos de la lista como un histograma, con el rango y los bins establecidos en esta celda.\n",
    "plt.show()\n"
   ]
  },
  {
   "cell_type": "markdown",
   "id": "80f9166f-f50d-4aa7-bf47-bfeae2f7c5a7",
   "metadata": {},
   "source": [
    "## Cálculo del Promedio y Varianza para la primera lista\n",
    "\n",
    "Teniendo en cuenta que el valor promedio se define como:\n",
    "$$\\mu = \\frac{1}{N}\\sum_i x_i$$\n",
    "\n",
    "y la varianza como: \n",
    "$$\\sigma^2 = \\frac{1}{N}\\sum_i (x_i - \\mu)^2$$"
   ]
  },
  {
   "cell_type": "code",
   "execution_count": 6,
   "id": "d838666b-6060-48ad-9ee3-600efb305efe",
   "metadata": {},
   "outputs": [
    {
     "name": "stdout",
     "output_type": "stream",
     "text": [
      "El promedio de la primera lista de edades es: 19.264\n",
      "El promedio de la segunda lista de edades es: 19.20740740740741\n"
     ]
    }
   ],
   "source": [
    "Z = np.mean(edades) # np.mean es una funcion de numpy que me permite hacer un calculo directo del valor promedio de nuestra lista.\n",
    "\n",
    "print(\"El promedio de la primera lista de edades es:\",Z)\n",
    "\n",
    "X = np.mean(edades2)\n",
    "\n",
    "print(\"El promedio de la segunda lista de edades es:\",X)"
   ]
  },
  {
   "cell_type": "code",
   "execution_count": 6,
   "id": "22f3f19e-aba7-4fac-a312-7badcae31282",
   "metadata": {},
   "outputs": [
    {
     "name": "stdout",
     "output_type": "stream",
     "text": [
      "La varianza para la primera lista de edades es: 0.23590399999999978\n",
      "La varianza para la segunda lista de edades es: 25.61031550068587\n"
     ]
    }
   ],
   "source": [
    "b = np.var(edades) # np.var me permite sacar de la librería de numpy una función que me permite calcular la varianza.\n",
    "c = np.var(edades2)\n",
    "print(\"La varianza para la primera lista de edades es:\", b)\n",
    "print(\"La varianza para la segunda lista de edades es:\", c)\n"
   ]
  },
  {
   "cell_type": "markdown",
   "id": "fb8344cf-7670-4627-81d9-d1b072bd3822",
   "metadata": {},
   "source": [
    "Como vemos, la varianza entre ambas listas distan bastante de la otra, a diferencia del promedio que tiene mas similutud de una con la otra.\n",
    "Esto es debido a que se introdujo la edad del profesor, que es un numero muy distinto y alejado de las demas edades que se muestran en la lista."
   ]
  }
 ],
 "metadata": {
  "kernelspec": {
   "display_name": "Python 3 (ipykernel)",
   "language": "python",
   "name": "python3"
  },
  "language_info": {
   "codemirror_mode": {
    "name": "ipython",
    "version": 3
   },
   "file_extension": ".py",
   "mimetype": "text/x-python",
   "name": "python",
   "nbconvert_exporter": "python",
   "pygments_lexer": "ipython3",
   "version": "3.9.12"
  }
 },
 "nbformat": 4,
 "nbformat_minor": 5
}
