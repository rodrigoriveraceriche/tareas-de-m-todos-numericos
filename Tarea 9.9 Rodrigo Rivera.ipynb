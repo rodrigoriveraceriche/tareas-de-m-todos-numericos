{
 "cells": [
  {
   "cell_type": "markdown",
   "id": "b55cfa07-90e5-4838-a9b4-1df4313d88ae",
   "metadata": {},
   "source": [
    "## Tarea 9.9 \n",
    "Calcule la siguiente integral\n",
    "\n",
    "$$\n",
    "\\int_{0.1}^1 dx\\,\\frac{\\ln(x)}{\\sqrt{\\cos^2(x) + \\tanh(x)}}\n",
    "$$\n",
    "\n",
    "Hágalo usando la cuadratura adaptativa y el integrador de scipy. Grafique los tiempos que tardan ambos en función de la precisión pedida."
   ]
  },
  {
   "cell_type": "code",
   "execution_count": 1,
   "id": "f09f82aa-6f00-4a12-8147-ae6a96e17def",
   "metadata": {},
   "outputs": [],
   "source": [
    "import numpy as np\n",
    "from scipy import integrate \n",
    "# De scipy se importa integrate para usar una de las funciones \n",
    "# esta librería para comparar el resultado de la misma integral \n",
    "# con el método de cuadratura adaptativa.\n",
    "\n",
    "import matplotlib.pyplot as plt\n",
    "\n",
    "class MaxIterations(Exception):\n",
    "    pass\n",
    "\n",
    "def Método_de_Cuadratura_Adaptativa(f, a, b, tol, N=100000):\n",
    "    \n",
    "    '''\n",
    "    Esta función usa el método de cuadratura adaptativa con\n",
    "    la función que queremos interpolar, el intervalo de integración\n",
    "    y la tolerancia como parámetros de la función, aproximando la \n",
    "    integral en varios intervalos.\n",
    "    \n",
    "    Inputs:\n",
    "    f : la función que interpolaremos.\n",
    "    \n",
    "    a,b : Límites de Integración\n",
    "    \n",
    "    tol: es la tolerancia o error de la aproximanción.\n",
    "    \n",
    "    N: es el número de iteraciones.\n",
    "    '''\n",
    "    \n",
    "    # Variables iniciales\n",
    "    approx = 0\n",
    "    i = 0\n",
    "    toli = [10*tol]\n",
    "    ai = [a]\n",
    "    hi = [(b - a)/2]\n",
    "    fai = [f(a)]\n",
    "    fbi = [f(b)]\n",
    "    fci = [f(a + hi[i])]\n",
    "    S0i = [hi[i]*(fai[i] + 4*fci[i] + fbi[i])/3]\n",
    "    Li = [1]\n",
    "    \n",
    "        \n",
    "    \n",
    "    while i >= 0:\n",
    "        \n",
    "        fd = f(ai[i] + hi[i]/2)\n",
    "        fe = f(ai[i] + 3*hi[i]/2)\n",
    "        S1 = hi[i]*(fai[i] + 4*fd + fci[i])/6\n",
    "        S2 = hi[i]*(fci[i] + 4*fe + fbi[i])/6\n",
    "        ai_prec = ai[i]\n",
    "        hi_prec = hi[i]\n",
    "        fai_prec = fai[i]\n",
    "        fbi_prec = fbi[i]\n",
    "        fci_prec = fci[i]\n",
    "        toli_prec = toli[i]\n",
    "        S0i_prec = S0i[i]\n",
    "        Li_prec = Li[i]\n",
    "        \n",
    "        i -= 1\n",
    "        if abs(S1 + S2 - S0i_prec) < toli_prec:\n",
    "            approx += S1 + S2\n",
    "        else:\n",
    "            if Li_prec >= N:\n",
    "                raise MaxIterations(\"Alcanzado máximo número de iteraciones.\")\n",
    "            \n",
    "            # Intervalo derecho\n",
    "            i += 1\n",
    "            if i >= len(ai): # A veces hay que ampliar la lista\n",
    "                ai.append(ai_prec + hi_prec)\n",
    "                fai.append(fci_prec)\n",
    "                fci.append(fe)\n",
    "                fbi.append(fbi_prec)\n",
    "                hi.append(hi_prec/2)\n",
    "                toli.append(toli_prec/2)\n",
    "                S0i.append(S2)\n",
    "                Li.append(Li_prec + 1)\n",
    "            else:\n",
    "                ai[i] = ai_prec + hi_prec\n",
    "                fai[i] = fci_prec\n",
    "                fci[i] = fe\n",
    "                fbi[i] = fbi_prec\n",
    "                hi[i] = hi_prec/2\n",
    "                toli[i] = toli_prec/2\n",
    "                S0i[i] = S2\n",
    "                Li[i] = Li_prec + 1\n",
    "                \n",
    "            # Intervalo izquierdo\n",
    "            i += 1\n",
    "            if i >= len(ai):\n",
    "                ai.append(ai_prec)\n",
    "                fai.append(fai_prec)\n",
    "                fci.append(fd)\n",
    "                fbi.append(fci_prec)\n",
    "                hi.append(hi[i-1])\n",
    "                toli.append(toli[i-1])\n",
    "                S0i.append(S1)\n",
    "                Li.append(Li[i-1])\n",
    "            else:\n",
    "                ai[i] = ai_prec\n",
    "                fai[i] = fai_prec\n",
    "                fci[i] = fd\n",
    "                fbi[i] = fci_prec\n",
    "                hi[i] = hi[i-1]\n",
    "                toli[i] = toli[i-1]\n",
    "                S0i[i] = S1\n",
    "                Li[i] = Li[i-1]\n",
    "                \n",
    "    return approx\n",
    "# Lo que se hizo es resolver por cada intervalo una aproximación.\n",
    "def f(x):\n",
    "    '''\n",
    "    Es la función que esta definida en este ejercicio.\n",
    "    '''\n",
    "    return np.log(x)/(np.sqrt(np.cos(x)**2 + np.tanh(x))) \n",
    "# Se define la función que queremos integrar con el método de arriba."
   ]
  },
  {
   "cell_type": "code",
   "execution_count": 2,
   "id": "b4a9dba2-7fd1-4caa-ae7b-964708d01ed6",
   "metadata": {},
   "outputs": [
    {
     "name": "stdout",
     "output_type": "stream",
     "text": [
      "La integral con el método de cuadratura adaptativa en el intervalo [0.1,1] es -0.6169302025292239\n",
      "La integral con el método de scipy es -0.6169301768805372 con una precisión de 4.699237926463449e-11\n"
     ]
    }
   ],
   "source": [
    "x2 = lambda x : np.log(x)/(np.sqrt(np.cos(x)**2 + np.tanh(x))) \n",
    "# usamos scipy para comparar.\n",
    "integrate.quad(x2, 0.1, 1)\n",
    "print(\"La integral con el método de cuadratura adaptativa en el intervalo [0.1,1] es\", \n",
    "      Método_de_Cuadratura_Adaptativa(f, 0.1, 1, 0.0000001))\n",
    "print(\"La integral con el método de scipy es\", integrate.quad(x2, 0.1, 1)[0], \"con una precisión de\", integrate.quad(x2, 0.1, 1)[1])\n"
   ]
  },
  {
   "cell_type": "markdown",
   "id": "9f49c4bb-48d7-43eb-8f93-2aee0bbda80d",
   "metadata": {},
   "source": [
    "Ahora veremos como calcular el tiempo\n",
    "\n"
   ]
  },
  {
   "cell_type": "code",
   "execution_count": 51,
   "id": "3e8f7763-5402-4dbc-b532-e04892310132",
   "metadata": {},
   "outputs": [],
   "source": [
    "from time import time_ns\n",
    "def medir_tiempo_cuadratura_adaptativa( Método_de_Cuadratura_Adaptativa, tol):\n",
    "    '''\n",
    "    Esta función me entrega un valor de tiempo (en nanosegundos)\n",
    "    cada vez que hago correr el código del método de cuadratura\n",
    "    adaptativa.\n",
    "    '''\n",
    "    t1 = time_ns()\n",
    "    Método_de_Cuadratura_Adaptativa(f,0.1,1,tol)\n",
    "    tf = time_ns() - t1\n",
    "    return tf\n"
   ]
  },
  {
   "cell_type": "code",
   "execution_count": 65,
   "id": "a13b85ab-0a90-406c-8319-f9c96b644b76",
   "metadata": {},
   "outputs": [
    {
     "data": {
      "text/plain": [
       "1004700"
      ]
     },
     "execution_count": 65,
     "metadata": {},
     "output_type": "execute_result"
    }
   ],
   "source": [
    "medir_tiempo_cuadratura_adaptativa(Método_de_Cuadratura_Adaptativa, 1e-7)"
   ]
  },
  {
   "cell_type": "code",
   "execution_count": 56,
   "id": "905a16ee-a4a2-47a7-8ce4-1ed994bc7668",
   "metadata": {},
   "outputs": [],
   "source": [
    "lista_tiempo = [medir_tiempo_cuadratura_adaptativa(Método_de_Cuadratura_Adaptativa, toli) for toli in tol]\n",
    "# Se hace la compresión de listas"
   ]
  },
  {
   "cell_type": "code",
   "execution_count": 59,
   "id": "8d7cc3ec-4f38-4ab1-8d29-c98ff0775545",
   "metadata": {},
   "outputs": [
    {
     "data": {
      "image/png": "[encoded data removed]",
      "text/plain": [
       "<Figure size 432x288 with 1 Axes>"
      ]
     },
     "metadata": {
      "needs_background": "light"
     },
     "output_type": "display_data"
    }
   ],
   "source": [
    "tol = np.linspace(1e-10,1e-7)\n",
    "plt.plot(tol,lista_tiempo,label =\"tiempo\", color=\"Orange\")\n",
    "plt.title(\"Gráfico de tiempo Método de Cuadratura Adaptativa\")\n",
    "plt.xlabel(\"Tolerancia\")\n",
    "plt.ylabel(\"Tiempo en nano segundos\")\n",
    "plt.legend()\n",
    "plt.show()\n",
    "\n"
   ]
  },
  {
   "cell_type": "code",
   "execution_count": 67,
   "id": "e3ed7e10-49d0-436d-8c93-aefbeadeba62",
   "metadata": {},
   "outputs": [
    {
     "data": {
      "image/png": "[encoded data removed]",
      "text/plain": [
       "<Figure size 432x288 with 1 Axes>"
      ]
     },
     "metadata": {
      "needs_background": "light"
     },
     "output_type": "display_data"
    }
   ],
   "source": [
    "# Iniciamos un ciclo for.\n",
    "tolerancia = np.linspace(1e-10,1e-7, 100)\n",
    "Tiempo_integrate_quad = [] # Se define esto como una lista vacía.\n",
    "for tiempo in tolerancia: # Se inicia un ciclo\n",
    "    tiempo1 = time_ns()\n",
    "    integrate.quad(x2,0.1,1,epsrel=tiempo)\n",
    "    tiempo2 = time_ns()\n",
    "    tiempo_final = tiempo2 - tiempo1\n",
    "    Tiempo_integrate_quad.append(tiempo_final)\n",
    "    # Se agrega los valores de tiempos en la lista\n",
    "plt.plot(tolerancia,Tiempo_integrate_quad, label=\"tiempo\", color=\"red\")\n",
    "plt.title(\"Gráfico cuadratura adaptativa\")\n",
    "plt.ylabel(\"Tiempo en nanosegundos\")\n",
    "plt.xlabel(\"Tolerancia metodo scipy\")\n",
    "plt.legend()\n",
    "plt.show()"
   ]
  },
  {
   "cell_type": "markdown",
   "id": "136a5377-48d9-4283-b38c-c9aac01e888b",
   "metadata": {},
   "source": [
    "Vemos que scipy se demora mucho menos tiempo que con el método de cuadratura adaptativa\n"
   ]
  }
 ],
 "metadata": {
  "kernelspec": {
   "display_name": "Python 3 (ipykernel)",
   "language": "python",
   "name": "python3"
  },
  "language_info": {
   "codemirror_mode": {
    "name": "ipython",
    "version": 3
   },
   "file_extension": ".py",
   "mimetype": "text/x-python",
   "name": "python",
   "nbconvert_exporter": "python",
   "pygments_lexer": "ipython3",
   "version": "3.9.12"
  }
 },
 "nbformat": 4,
 "nbformat_minor": 5
}
